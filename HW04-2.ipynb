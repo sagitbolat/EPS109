{
 "cells": [
  {
   "cell_type": "code",
   "execution_count": 2,
   "id": "bbe1a864",
   "metadata": {},
   "outputs": [],
   "source": [
    "import numpy as np"
   ]
  },
  {
   "cell_type": "markdown",
   "id": "7dfdcff7",
   "metadata": {},
   "source": [
    "# Part I"
   ]
  },
  {
   "cell_type": "code",
   "execution_count": 3,
   "id": "440bafb3",
   "metadata": {},
   "outputs": [
    {
     "name": "stdout",
     "output_type": "stream",
     "text": [
      "[[1.2345  ]\n",
      " [1.303875]\n",
      " [1.37325 ]\n",
      " [1.442625]\n",
      " [1.512   ]\n",
      " [1.581375]\n",
      " [1.65075 ]\n",
      " [1.720125]\n",
      " [1.7895  ]\n",
      " [1.858875]\n",
      " [1.92825 ]\n",
      " [1.997625]\n",
      " [2.067   ]\n",
      " [2.136375]\n",
      " [2.20575 ]\n",
      " [2.275125]\n",
      " [2.3445  ]]\n"
     ]
    }
   ],
   "source": [
    "xMin = 1.2345 \n",
    "xMax = 2.3445 \n",
    "nn = 17 \n",
    "x = np.zeros((nn, 1))\n",
    "increment = (xMax - xMin) / (nn - 1)\n",
    "for i in range(nn):\n",
    "    x[i] = xMin + (i * increment)\n",
    "\n",
    "print(x)"
   ]
  },
  {
   "cell_type": "markdown",
   "id": "eb17d4ba",
   "metadata": {},
   "source": [
    "# Part II"
   ]
  },
  {
   "cell_type": "markdown",
   "id": "e7c1ce3c",
   "metadata": {},
   "source": [
    "### 1."
   ]
  },
  {
   "cell_type": "code",
   "execution_count": 4,
   "id": "31c9eb34",
   "metadata": {
    "scrolled": true
   },
   "outputs": [
    {
     "name": "stdout",
     "output_type": "stream",
     "text": [
      "% of water remaining:  0.9951178853712691\n"
     ]
    }
   ],
   "source": [
    "#patch area\n",
    "def area(lat): #longitude does not influence patch area, since the lines are parallel.\n",
    "    R = 6378137 # radius of earth in meters.\n",
    "    lat = 90 - lat - 0.5 # to account for north being at 90 degrees and to center the patch.\n",
    "    area = ((2 * np.pi ** 2 * R ** 2)/(180 * 360)) * np.cos(lat/180*np.pi) #area of each patch\n",
    "    return area\n",
    "\n",
    "\n",
    "# original ocean volume\n",
    "H = np.loadtxt('topography_180x360_grid.txt')\n",
    "\n",
    "total_vol = 0\n",
    "for lat in range(180):\n",
    "    for lon in range(360):\n",
    "        elev = H[lat, lon]\n",
    "        if (elev < 0):\n",
    "            total_vol += (area(lat) * abs(elev))\n",
    "\n",
    "new_vol = 0\n",
    "for lat in range(180):\n",
    "    for lon in range(360):\n",
    "        elev = H[lat, lon]\n",
    "        if (elev < -650):\n",
    "            new_vol += (area(lat) * abs(elev))\n",
    "            \n",
    "print(\"% of water remaining: \", new_vol / total_vol)"
   ]
  },
  {
   "cell_type": "markdown",
   "id": "e15db97c",
   "metadata": {},
   "source": [
    "### 2."
   ]
  },
  {
   "cell_type": "code",
   "execution_count": 5,
   "id": "c7aea98a",
   "metadata": {},
   "outputs": [
    {
     "name": "stdout",
     "output_type": "stream",
     "text": [
      "% of new water area:  0.8775520272695465\n"
     ]
    }
   ],
   "source": [
    "# total area now\n",
    "total_area = 0\n",
    "for lat in range(180):\n",
    "    for lon in range(360):\n",
    "        total_area += area(lat) \n",
    "        \n",
    "# water new area\n",
    "water_area = 0\n",
    "for lat in range(180):\n",
    "    for lon in range(360):\n",
    "        if (H[lat, lon] < 550):\n",
    "            water_area += area(lat) \n",
    "            \n",
    "print(\"% of new water area: \", water_area/total_area)"
   ]
  },
  {
   "cell_type": "markdown",
   "id": "9e2e8a7b",
   "metadata": {},
   "source": [
    "### 3."
   ]
  },
  {
   "cell_type": "code",
   "execution_count": 6,
   "id": "79b3241e",
   "metadata": {},
   "outputs": [
    {
     "name": "stdout",
     "output_type": "stream",
     "text": [
      "Water volume at normal elevation:  1.339724853455374e+18\n",
      "Water volume at new elevation:     1.3504452595297393e+18\n",
      "Percent volume increase:           0.8001946106109443\n",
      " \n",
      "An increase of about 357 in water elevation would result in a 0.8001946106109443 % water volume increase.\n"
     ]
    }
   ],
   "source": [
    "# water volume with elevation 0 (normal):\n",
    "total_vol = 0\n",
    "for lat in range(180):\n",
    "    for lon in range(360):\n",
    "        elev = H[lat, lon]\n",
    "        if elev < 0:\n",
    "            total_vol += (area(lat) * abs(elev))\n",
    "print(\"Water volume at normal elevation: \", total_vol)\n",
    "\n",
    "# water volume with elevation k (new):\n",
    "k = 357\n",
    "new_vol = 0\n",
    "for lat in range(180):\n",
    "    for lon in range(360):\n",
    "        elev = H[lat, lon]\n",
    "        if elev < k:\n",
    "            new_vol += (area(lat) * abs(elev))\n",
    "print(\"Water volume at new elevation:    \", new_vol)\n",
    "\n",
    "percent = (new_vol/total_vol)*100 - 100\n",
    "\n",
    "print(\"Percent volume increase:          \", percent)\n",
    "\n",
    "print(\" \")\n",
    "\n",
    "print(\"An increase of about\", k, \"in water elevation would result in a\", percent, \"% water volume increase.\")\n"
   ]
  },
  {
   "cell_type": "markdown",
   "id": "be7776ce",
   "metadata": {},
   "source": [
    "# Part III"
   ]
  },
  {
   "cell_type": "markdown",
   "id": "4c1beaa6",
   "metadata": {},
   "source": [
    "### a."
   ]
  },
  {
   "cell_type": "code",
   "execution_count": 7,
   "id": "7784e755",
   "metadata": {},
   "outputs": [
    {
     "name": "stdout",
     "output_type": "stream",
     "text": [
      "After 1 million years: 34.10821210104352 , -118.73601506665094\n",
      "After 5 million years: 34.774660505217604 , -120.04607533325463\n",
      "After 25 million years: 38.10690252608802 , -126.59637666627314\n"
     ]
    }
   ],
   "source": [
    "# Cordinates in decimal point (taken from California_coastline_05_for_lab of lab 4).\n",
    "lat_LAX = 33.9416\n",
    "lon_LAX = -118.4085\n",
    "lat_UCB = 37.8716\n",
    "lon_UCB = -122.2727\n",
    "\n",
    "# plate speed at 32 degree NW angle:\n",
    "v = 0.035 # in meters per year\n",
    "# x and y components\n",
    "yv = np.sin(32 * np.pi/180) * v # meters per year lat\n",
    "xv = -np.cos(32 * np.pi/180) * v # meters per year lon\n",
    "\n",
    "\n",
    "# conversion function (from meters to longitude and from meters to latitude):\n",
    "def m_to_lat(m):\n",
    "    R = 6378137\n",
    "    m_in_lat = (2 * np.pi * R)/360\n",
    "    return m/m_in_lat\n",
    "\n",
    "def m_to_lon(m):\n",
    "    R = 6378137\n",
    "    m_in_lon = (np.pi * R * np.cos(35.5 * np.pi / 180))/180\n",
    "    return m/m_in_lon\n",
    "\n",
    "\n",
    "# time intervals:\n",
    "a = 1000000 # 1 mil\n",
    "b = a * 5   # 5 mil\n",
    "c = a * 25  # 25 mil\n",
    "\n",
    "# location after 1, 5, and 25 mil years\n",
    "xa = xv * a\n",
    "lon_a = lon_LAX + m_to_lon(xa)\n",
    "ya = yv * a\n",
    "lat_a = lat_LAX + m_to_lat(ya)\n",
    "\n",
    "xb = xv * b\n",
    "lon_b = lon_LAX + m_to_lon(xb)\n",
    "yb = yv * b\n",
    "lat_b = lat_LAX + m_to_lat(yb)\n",
    "\n",
    "xc = xv * c\n",
    "lon_c = lon_LAX + m_to_lon(xc)\n",
    "yc = yv * c\n",
    "lat_c = lat_LAX + m_to_lat(yc)\n",
    "\n",
    "print(\"After 1 million years:\", lat_a, \",\", lon_a)\n",
    "print(\"After 5 million years:\", lat_b, \",\", lon_b)\n",
    "print(\"After 25 million years:\", lat_c, \",\", lon_c)\n",
    "\n"
   ]
  },
  {
   "cell_type": "code",
   "execution_count": 8,
   "id": "f301fe25",
   "metadata": {},
   "outputs": [
    {
     "data": {
      "image/png": "[encoded data removed]",
      "text/plain": [
       "<Figure size 1080x864 with 1 Axes>"
      ]
     },
     "metadata": {
      "needs_background": "light"
     },
     "output_type": "display_data"
    }
   ],
   "source": [
    "# Plotting: Code from California_coastline_05_for_lab of lab 4\n",
    "import matplotlib.pyplot as plt\n",
    "\n",
    "lat_min = 33;\n",
    "lat_max = 42;\n",
    "lon_min = -127;\n",
    "lon_max = -115;\n",
    "\n",
    "CAC = np.loadtxt('CA_coast_line_no_islands.txt', usecols=(0,1)) \n",
    "CAB = np.loadtxt('CA_boundary2.txt', usecols=(0,1)) \n",
    "\n",
    "CAC1 = np.append( CAC,  [[lon_min,max(CAC[:,1])]],axis=0)\n",
    "CAC2 = np.append( CAC1, [[lon_min,min(CAC[:,1])]],axis=0)\n",
    "ocean = CAC2.copy()\n",
    "\n",
    "plate = np.loadtxt('plate.txt', usecols=(0,1)) \n",
    "\n",
    "\n",
    "plt.rcParams['figure.figsize'] = [15, 12]\n",
    "\n",
    "plt.plot(CAB[:,0],CAB[:,1],'k-',lw=3)\n",
    "plt.fill(CAB[:,0],CAB[:,1],'navajowhite')\n",
    "\n",
    "#plt.fill(land[:,0],land[:,1],'-',color='lightgrey')\n",
    "plt.fill(ocean[:,0],ocean[:,1],'-',color='lightblue')\n",
    "\n",
    "plt.plot(plate[:,0],plate[:,1],'r-')\n",
    "plt.fill(plate[:,0],plate[:,1],'pink')\n",
    "\n",
    "plt.plot(lon_LAX,lat_LAX,'o',color='darkgreen',ms=20)\n",
    "plt.plot(lon_a,lat_a,'o',color='red',ms=20)\n",
    "plt.plot(lon_b,lat_b,'o',color='blue',ms=20)\n",
    "plt.plot(lon_c,lat_c,'o',color='yellow',ms=20)\n",
    "plt.plot(lon_UCB,lat_UCB,'*',mec='darkblue',mew=3,mfc='yellow',ms=40)\n",
    "\n",
    "plt.grid(color='k', linestyle='-', linewidth=0.5)\n",
    "plt.show()"
   ]
  },
  {
   "cell_type": "code",
   "execution_count": 36,
   "id": "2379b540",
   "metadata": {},
   "outputs": [
    {
     "name": "stdout",
     "output_type": "stream",
     "text": [
      "Lat after t_min: 37.840323164418386\n",
      "Lat after t_max: 37.890306794731444\n",
      "Closest latutude to UCB:  37.87159992125048 , with distance: 7.874952245856548e-08\n",
      "Closest latitude that LAX will be to UCB will occur in 23587722 years from now.\n"
     ]
    }
   ],
   "source": [
    "#determining decent boundaries\n",
    "t_min = 23400000\n",
    "t_max = 23700000\n",
    "\n",
    "ymin = yv * t_min\n",
    "lat_min = lat_LAX + m_to_lat(ymin)\n",
    "\n",
    "ymax = yv * t_max\n",
    "lat_max = lat_LAX + m_to_lat(ymax)\n",
    "\n",
    "# lat_UCB = 37.8716\n",
    "print(\"Lat after t_min:\", lat_min)\n",
    "print(\"Lat after t_max:\", lat_max)\n",
    "\n",
    "#search through boundaries (k year increment)\n",
    "closest_dist = abs(lat_min - lat_UCB)\n",
    "closest_lat = lat_min\n",
    "closest_year = t_min\n",
    "k = 1\n",
    "for i in range(t_min, t_max, k):\n",
    "    ynew = yv * i\n",
    "    new_lat = lat_LAX + m_to_lat(ynew)\n",
    "    new_dist = abs(new_lat - lat_UCB)\n",
    "\n",
    "    if new_dist < closest_dist:\n",
    "        closest_dist = new_dist\n",
    "        closest_lat = new_lat\n",
    "        closest_year = i\n",
    "\n",
    "print(\"Closest latutude to UCB: \", closest_lat, \", with distance:\", closest_dist)\n",
    "print(\"Closest latitude that LAX will be to UCB will occur in\", closest_year, \"years from now.\")\n",
    "\n"
   ]
  },
  {
   "cell_type": "markdown",
   "id": "bf535939",
   "metadata": {},
   "source": [
    "The closest that LAX will be to UCB when it comes to **latitude** will be in **23.587722** million years."
   ]
  }
 ],
 "metadata": {
  "kernelspec": {
   "display_name": "Python 3 (ipykernel)",
   "language": "python",
   "name": "python3"
  },
  "language_info": {
   "codemirror_mode": {
    "name": "ipython",
    "version": 3
   },
   "file_extension": ".py",
   "mimetype": "text/x-python",
   "name": "python",
   "nbconvert_exporter": "python",
   "pygments_lexer": "ipython3",
   "version": "3.9.12"
  }
 },
 "nbformat": 4,
 "nbformat_minor": 5
}
