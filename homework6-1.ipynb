{
 "cells": [
  {
   "cell_type": "markdown",
   "metadata": {},
   "source": [
    "# Diffusion Limited Aggregation \n",
    "\n",
    "#### Author : B. Militzer, University of California, Berkeley \n",
    "#### Date   : Sept. 26, 2018\n",
    "\n",
    "#### Read \"The Science of Fractal Images\", Ed. Peitgen and Saupe, p. 37 (1988)\n"
   ]
  },
  {
   "cell_type": "code",
   "execution_count": 15,
   "metadata": {
    "jupyter": {
     "outputs_hidden": true
    }
   },
   "outputs": [],
   "source": [
    "import numpy as np\n",
    "import matplotlib.pyplot as plt"
   ]
  },
  {
   "cell_type": "code",
   "execution_count": 16,
   "metadata": {},
   "outputs": [],
   "source": [
    "#note, this function expects a matrix A[ix,iy] \n",
    "#and then displays so that A[:,0] is the lowest row of pixels\n",
    "def display(A, B):\n",
    "    maxX = A.shape[0]\n",
    "    maxY = A.shape[1]\n",
    "    \n",
    "    m2 = np.max(B)\n",
    "    B[A[:,:]==1] = m2\n",
    "    \n",
    "    m1 = np.min(B[B[:,:]>0])\n",
    "    if(m1==m2): m1=m2/2\n",
    "    B[B[:,:]==0] = m1*(m1/m2)**(1/10)\n",
    "    \n",
    "    D = np.zeros((maxY, maxX))\n",
    "    for ix in range(0,maxX):\n",
    "        for iy in range(0,maxY):\n",
    "            D[maxY-1-iy,ix] = np.log(B[ix, iy])\n",
    "\n",
    "    #Display the graphics outside of the notebook. \n",
    "    #On a PC, use '%matplotlib qt' instead.\n",
    "    %matplotlib tk\n",
    "    #NOTE: I am running Ubuntu and deleting this line worked for me. (having that line caused errors.)\n",
    "    \n",
    "    plt.rcParams['figure.figsize'] = [6, 6/maxX*maxY]\n",
    "    plt.imshow(D); \n",
    "    plt.axis('off'); \n",
    "    plt.show()\n",
    "    plt.draw()\n",
    "    plt.pause(0.01)"
   ]
  },
  {
   "cell_type": "code",
   "execution_count": 17,
   "metadata": {
    "jupyter": {
     "outputs_hidden": true
    }
   },
   "outputs": [],
   "source": [
    "nParticles = 100 * 1000\n",
    "maxX = 200 +(5*7)\n",
    "maxY = 40"
   ]
  },
  {
   "cell_type": "code",
   "execution_count": 18,
   "metadata": {},
   "outputs": [],
   "source": [
    "# Initialize matrix containing all 2D grid points A(x,y)\n",
    "# 0 <= x < maxX\n",
    "# 0 <= y < maxY\n",
    "# A(x,y)=0 ... site is empty\n",
    "# A(x,y)>0 ... site is filled\n",
    "A = np.zeros((maxX, maxY))\n",
    "\n",
    "A[:,0] = 1\n",
    "A[:,maxY-1] = 1\n",
    "#print(A.transpose())"
   ]
  },
  {
   "cell_type": "code",
   "execution_count": 19,
   "metadata": {},
   "outputs": [],
   "source": [
    "B = np.zeros((maxX, maxY))\n",
    "\n",
    "#print(B.transpose())"
   ]
  },
  {
   "cell_type": "code",
   "execution_count": 20,
   "metadata": {},
   "outputs": [],
   "source": [
    "p = 1\n",
    "yStart = 20\n",
    "xStart = maxX-1"
   ]
  },
  {
   "cell_type": "code",
   "execution_count": 21,
   "metadata": {},
   "outputs": [
    {
     "name": "stdout",
     "output_type": "stream",
     "text": [
      "i= 5000 \tCurrent probability=0.5536\n",
      "i= 10000 \tCurrent probability=0.5492\n",
      "i= 15000 \tCurrent probability=0.5541333333333334\n",
      "i= 20000 \tCurrent probability=0.5565\n",
      "i= 25000 \tCurrent probability=0.5552\n",
      "i= 30000 \tCurrent probability=0.5555\n",
      "i= 35000 \tCurrent probability=0.5536857142857143\n",
      "i= 40000 \tCurrent probability=0.553\n",
      "i= 45000 \tCurrent probability=0.5526\n",
      "i= 50000 \tCurrent probability=0.55116\n",
      "i= 55000 \tCurrent probability=0.5521272727272727\n",
      "i= 60000 \tCurrent probability=0.5531833333333334\n",
      "i= 65000 \tCurrent probability=0.5538615384615385\n",
      "i= 70000 \tCurrent probability=0.5536714285714286\n",
      "i= 75000 \tCurrent probability=0.5540266666666667\n",
      "i= 80000 \tCurrent probability=0.5543875\n",
      "i= 85000 \tCurrent probability=0.5535176470588236\n",
      "i= 90000 \tCurrent probability=0.5531333333333334\n",
      "i= 95000 \tCurrent probability=0.5535894736842105\n",
      "Finished.\n",
      "Probability of reaching left side is 0.55315\n"
     ]
    }
   ],
   "source": [
    "def run_simulation(A, B):\n",
    "    particles_finished = 0\n",
    "    for i in range(0,nParticles):\n",
    "        # Compute new starting point on the line y=yStart\n",
    "        x  = xStart\n",
    "        y  = yStart\n",
    "\n",
    "        while True:\n",
    "            xOrg = x\n",
    "            yOrg = y\n",
    "\n",
    "            r = np.random.random(); # Random float:  0.0 <= r < 1.0\n",
    "            #based on the value of 'r', move the particle\n",
    "            #left, right, up, or down and change x and y accordingly\n",
    "            if r < 0.5: \n",
    "                x -= 1\n",
    "            elif 0.5 <= r < 0.6: \n",
    "                x +=1\n",
    "            elif 0.6 <= r < 0.8: \n",
    "                y += 1\n",
    "            elif 0.8 <= r < 1:\n",
    "                y -= 1\n",
    "\n",
    "            #now apply periodic boundary conditions to 'x'\n",
    "            if y == 0 or y == maxY-1:\n",
    "                break\n",
    "            if x < 0:\n",
    "                particles_finished += 1\n",
    "                #print(f'{i}th particle reached left side')\n",
    "                break\n",
    "            if x > maxX-1:\n",
    "                continue\n",
    "\n",
    "\n",
    "            if (A[x,y] == 1): \n",
    "                x = xOrg\n",
    "                y = yOrg\n",
    "                continue; # if this site has been taken try moving in a different direction\n",
    "\n",
    "            #determine the x coordionates of the left and right neighbors\n",
    "            #store them in 'xm' and 'xp' and apply periodic boundary conditions again\n",
    "            xp = x+1\n",
    "            xm = x-1\n",
    "            yp = y+1\n",
    "            ym = y-1\n",
    "\n",
    "            if ym < 0:\n",
    "                ym = maxY-1\n",
    "            elif yp >= maxY:\n",
    "                yp = 0\n",
    "            elif xp >= maxX:\n",
    "                xp = 0\n",
    "\n",
    "\n",
    "            # Determine if any neighboring site is occupied\n",
    "            # if that is the case, enter the following 'if' clause\n",
    "\n",
    "            if (xm < 0 or A[xp,y] == 1 or A[xm,y] == 1 or A[x,yp] == 1 or A[x,ym] == 1): \n",
    "                B[x,y] += 1\n",
    "\n",
    "                if(xm < 1):\n",
    "                    particles_finished += 1\n",
    "                    #print(f'{i}th particle reached left side')\n",
    "\n",
    "                if (i%5000==0 and i != 0): \n",
    "                    p_curr = particles_finished/i\n",
    "                    print(f'i= {i} \\tCurrent probability={p_curr}')\n",
    "\n",
    "                nNewParticlesPerFrame = 500 \n",
    "                if (i%nNewParticlesPerFrame==0): \n",
    "                    display(A, B)\n",
    "\n",
    "                break # particle was attached, break out of current loop and insert next one\n",
    "\n",
    "        #if (x-1==0): \n",
    "        #    print(f'{i}th particle reached left side')\n",
    "        #    particles_finished +=1\n",
    "    return particles_finished\n",
    "\n",
    "particles_finished = run_simulation(A, B)\n",
    "print(\"Finished.\")\n",
    "\n",
    "p_finished = particles_finished / nParticles\n",
    "print(f\"Probability of reaching left side is {p_finished}\")\n",
    "\n",
    "display(A, B)\n",
    "plt.savefig('final.png', bbox_inches='tight')  "
   ]
  },
  {
   "cell_type": "markdown",
   "metadata": {},
   "source": [
    "## Probabilities:\n",
    "**5000 Particles**:  0.5482\n",
    "\n",
    "**10000 Particles**: 0.5573\n",
    "\n",
    "**15000 Particles**: 0.5569333333333333\n",
    "\n",
    "**20000 Particles**: 0.05514\n",
    "\n",
    "**25000 Particles**: 0.54916, 0.54992,\n",
    "\n",
    "**50000 Particles**: 0.5547, 0.54852\n",
    "\n",
    "**100000 Particles** 0.55144, 0.55137, 0.5514\n",
    "\n",
    "## Final Success Probability:\n",
    "### 55.14%"
   ]
  },
  {
   "cell_type": "markdown",
   "metadata": {},
   "source": [
    "# Add Obstacle"
   ]
  },
  {
   "cell_type": "code",
   "execution_count": 22,
   "metadata": {},
   "outputs": [],
   "source": [
    "# Initialize matrix containing all 2D grid points A(x,y)\n",
    "# 0 <= x < maxX\n",
    "# 0 <= y < maxY\n",
    "# A(x,y)=0 ... site is empty\n",
    "# A(x,y)>0 ... site is filled\n",
    "A = np.zeros((maxX, maxY))\n",
    "\n",
    "A[:,0] = 1\n",
    "A[:,maxY-1] = 1\n",
    "\n",
    "# Add obstacle:\n",
    "# Chosen obstacle 7. SID: 3032102477\n",
    "center_x = maxX // 2\n",
    "center_y = maxY // 2\n",
    "obst_width = 25\n",
    "obst_height = 8\n",
    "obst_thickness = 2\n",
    "obst_min_x = center_x - obst_width\n",
    "obst_max_x = center_x + obst_width\n",
    "obst_min_y = center_y - obst_height - obst_thickness\n",
    "obst_max_y = center_y + obst_height + obst_thickness\n",
    "\n",
    "for i in range(obst_min_x, obst_max_x):\n",
    "    for j in range(obst_min_y, obst_max_y):\n",
    "        if j < obst_min_y + obst_thickness or j > obst_max_y - obst_thickness:\n",
    "            A[i, j] = 1\n",
    "#print(A.transpose())\n",
    "\n",
    "B = np.zeros((maxX, maxY))\n",
    "\n",
    "#print(B.transpose())\n",
    "\n",
    "p = 1\n",
    "yStart = 20\n",
    "xStart = maxX-1\n"
   ]
  },
  {
   "cell_type": "code",
   "execution_count": 23,
   "metadata": {},
   "outputs": [
    {
     "name": "stdout",
     "output_type": "stream",
     "text": [
      "i= 5000 \tCurrent probability=0.1718\n",
      "i= 10000 \tCurrent probability=0.1648\n",
      "i= 15000 \tCurrent probability=0.16433333333333333\n",
      "i= 20000 \tCurrent probability=0.1664\n",
      "i= 25000 \tCurrent probability=0.1664\n",
      "i= 30000 \tCurrent probability=0.1683\n",
      "i= 35000 \tCurrent probability=0.16831428571428572\n",
      "i= 40000 \tCurrent probability=0.168675\n",
      "i= 45000 \tCurrent probability=0.16773333333333335\n",
      "i= 50000 \tCurrent probability=0.16762\n",
      "i= 55000 \tCurrent probability=0.16732727272727274\n",
      "i= 60000 \tCurrent probability=0.16728333333333334\n",
      "i= 65000 \tCurrent probability=0.16693846153846154\n",
      "i= 70000 \tCurrent probability=0.16615714285714286\n",
      "i= 75000 \tCurrent probability=0.16606666666666667\n",
      "i= 80000 \tCurrent probability=0.1659875\n",
      "i= 85000 \tCurrent probability=0.16581176470588235\n",
      "i= 90000 \tCurrent probability=0.1660888888888889\n",
      "i= 95000 \tCurrent probability=0.16590526315789475\n",
      "Finished.\n",
      "Probability of reaching left side is 0.16604\n"
     ]
    }
   ],
   "source": [
    "\n",
    "particles_finished = run_simulation(A, B)\n",
    "print(\"Finished.\")\n",
    "\n",
    "p_finished = particles_finished / nParticles\n",
    "print(f\"Probability of reaching left side is {p_finished}\")\n",
    "\n",
    "display(A, B)"
   ]
  },
  {
   "cell_type": "markdown",
   "metadata": {},
   "source": [
    "### Probability With obstacle:\n",
    "#### 16.8% +/- 0.2%"
   ]
  },
  {
   "cell_type": "markdown",
   "metadata": {},
   "source": [
    "# Obstacle with double height:"
   ]
  },
  {
   "cell_type": "code",
   "execution_count": 24,
   "metadata": {},
   "outputs": [
    {
     "name": "stdout",
     "output_type": "stream",
     "text": [
      "i= 5000 \tCurrent probability=0.1724\n",
      "i= 10000 \tCurrent probability=0.1728\n",
      "i= 15000 \tCurrent probability=0.17006666666666667\n",
      "i= 20000 \tCurrent probability=0.16745\n",
      "i= 25000 \tCurrent probability=0.16788\n",
      "i= 30000 \tCurrent probability=0.16863333333333333\n",
      "i= 35000 \tCurrent probability=0.16894285714285714\n",
      "i= 40000 \tCurrent probability=0.168825\n",
      "i= 45000 \tCurrent probability=0.1680888888888889\n",
      "i= 50000 \tCurrent probability=0.1669\n",
      "i= 55000 \tCurrent probability=0.16736363636363635\n",
      "i= 60000 \tCurrent probability=0.16738333333333333\n",
      "i= 65000 \tCurrent probability=0.16709230769230768\n",
      "i= 70000 \tCurrent probability=0.16712857142857143\n",
      "i= 75000 \tCurrent probability=0.16716\n",
      "i= 80000 \tCurrent probability=0.1669\n",
      "i= 85000 \tCurrent probability=0.16618823529411764\n",
      "i= 90000 \tCurrent probability=0.16642222222222222\n",
      "i= 95000 \tCurrent probability=0.1664\n",
      "Finished.\n",
      "Probability of reaching left side is 0.16662\n"
     ]
    }
   ],
   "source": [
    "# Initialize matrix containing all 2D grid points A(x,y)\n",
    "# 0 <= x < maxX\n",
    "# 0 <= y < maxY\n",
    "# A(x,y)=0 ... site is empty\n",
    "# A(x,y)>0 ... site is filled\n",
    "A = np.zeros((maxX, maxY))\n",
    "\n",
    "A[:,0] = 1\n",
    "A[:,maxY-1] = 1\n",
    "\n",
    "# Add obstacle:\n",
    "# Chosen obstacle 7. SID: 3032102477\n",
    "center_x = maxX // 2\n",
    "center_y = maxY // 2\n",
    "obst_width = 25\n",
    "obst_height = 8\n",
    "obst_thickness = 4\n",
    "obst_min_x = center_x - obst_width\n",
    "obst_max_x = center_x + obst_width\n",
    "obst_min_y = center_y - obst_height - obst_thickness\n",
    "obst_max_y = center_y + obst_height + obst_thickness\n",
    "\n",
    "for i in range(obst_min_x, obst_max_x):\n",
    "    for j in range(obst_min_y, obst_max_y):\n",
    "        if j < obst_min_y + obst_thickness or j > obst_max_y - obst_thickness:\n",
    "            A[i, j] = 1\n",
    "#print(A.transpose())\n",
    "\n",
    "B = np.zeros((maxX, maxY))\n",
    "\n",
    "#print(B.transpose())\n",
    "\n",
    "p = 1\n",
    "yStart = 20\n",
    "xStart = maxX-1\n",
    "\n",
    "\n",
    "particles_finished = run_simulation(A, B)\n",
    "\n",
    "print(\"Finished.\")\n",
    "\n",
    "p_finished = particles_finished / nParticles\n",
    "print(f\"Probability of reaching left side is {p_finished}\")\n",
    "\n",
    "display(A, B)"
   ]
  },
  {
   "cell_type": "markdown",
   "metadata": {},
   "source": [
    "### Probability with double height:\n",
    "#### 16.6% +/- 0.2%\n",
    "The Probability is now slightly less, since there is more surface area for the particles to get stuck on, therefore less particles get through to the end of the pipe."
   ]
  },
  {
   "cell_type": "markdown",
   "metadata": {},
   "source": [
    "# Obstacle with double width"
   ]
  },
  {
   "cell_type": "code",
   "execution_count": 25,
   "metadata": {},
   "outputs": [
    {
     "name": "stdout",
     "output_type": "stream",
     "text": [
      "i= 5000 \tCurrent probability=0.0808\n",
      "i= 10000 \tCurrent probability=0.0806\n",
      "i= 15000 \tCurrent probability=0.0816\n",
      "i= 20000 \tCurrent probability=0.08185\n",
      "i= 25000 \tCurrent probability=0.08176\n",
      "i= 30000 \tCurrent probability=0.0807\n",
      "i= 35000 \tCurrent probability=0.08062857142857142\n",
      "i= 40000 \tCurrent probability=0.080175\n",
      "i= 45000 \tCurrent probability=0.07937777777777778\n",
      "i= 50000 \tCurrent probability=0.07964\n",
      "i= 55000 \tCurrent probability=0.07974545454545455\n",
      "i= 60000 \tCurrent probability=0.07946666666666667\n",
      "i= 65000 \tCurrent probability=0.07966153846153846\n",
      "i= 70000 \tCurrent probability=0.07938571428571428\n",
      "i= 75000 \tCurrent probability=0.0792\n",
      "i= 80000 \tCurrent probability=0.079\n",
      "i= 85000 \tCurrent probability=0.07905882352941176\n",
      "i= 90000 \tCurrent probability=0.07898888888888889\n",
      "i= 95000 \tCurrent probability=0.07886315789473684\n",
      "Finished.\n",
      "Probability of reaching left side is 0.07926\n"
     ]
    }
   ],
   "source": [
    "# Initialize matrix containing all 2D grid points A(x,y)\n",
    "# 0 <= x < maxX\n",
    "# 0 <= y < maxY\n",
    "# A(x,y)=0 ... site is empty\n",
    "# A(x,y)>0 ... site is filled\n",
    "A = np.zeros((maxX, maxY))\n",
    "\n",
    "A[:,0] = 1\n",
    "A[:,maxY-1] = 1\n",
    "\n",
    "# Add obstacle:\n",
    "# Chosen obstacle 7. SID: 3032102477\n",
    "center_x = maxX // 2\n",
    "center_y = maxY // 2\n",
    "obst_width = 50\n",
    "obst_height = 8\n",
    "obst_thickness = 2\n",
    "obst_min_x = center_x - obst_width\n",
    "obst_max_x = center_x + obst_width\n",
    "obst_min_y = center_y - obst_height - obst_thickness\n",
    "obst_max_y = center_y + obst_height + obst_thickness\n",
    "\n",
    "for i in range(obst_min_x, obst_max_x):\n",
    "    for j in range(obst_min_y, obst_max_y):\n",
    "        if j < obst_min_y + obst_thickness or j > obst_max_y - obst_thickness:\n",
    "            A[i, j] = 1\n",
    "#print(A.transpose())\n",
    "\n",
    "B = np.zeros((maxX, maxY))\n",
    "\n",
    "#print(B.transpose())\n",
    "\n",
    "p = 1\n",
    "yStart = 20\n",
    "xStart = maxX-1\n",
    "\n",
    "\n",
    "particles_finished = run_simulation(A, B)\n",
    "\n",
    "print(\"Finished.\")\n",
    "\n",
    "p_finished = particles_finished / nParticles\n",
    "print(f\"Probability of reaching left side is {p_finished}\")\n",
    "\n",
    "display(A, B)"
   ]
  },
  {
   "cell_type": "markdown",
   "metadata": {},
   "source": [
    "### Probability with double width:\n",
    "#### 7.9% +/- 0.2%\n",
    "The Probability is now significantly less because the obstacle now starts closer to the start of the path of particles. This means a large number of them enters between the obstacles, and the obstacles form 3 smaller pseudo-pipes. Since the individual pipes a smaller, its harder for the particles to get through the pipes (since it doesnt take as much \"work\" for the particle to bump and get stuck on one of the walls.)"
   ]
  },
  {
   "cell_type": "code",
   "execution_count": null,
   "metadata": {},
   "outputs": [],
   "source": []
  }
 ],
 "metadata": {
  "kernelspec": {
   "display_name": "Python 3 (ipykernel)",
   "language": "python",
   "name": "python3"
  },
  "language_info": {
   "codemirror_mode": {
    "name": "ipython",
    "version": 3
   },
   "file_extension": ".py",
   "mimetype": "text/x-python",
   "name": "python",
   "nbconvert_exporter": "python",
   "pygments_lexer": "ipython3",
   "version": "3.9.12"
  }
 },
 "nbformat": 4,
 "nbformat_minor": 4
}
