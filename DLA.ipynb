{
 "cells": [
  {
   "cell_type": "markdown",
   "metadata": {},
   "source": [
    "# Diffusion Limited Aggregation \n",
    "\n",
    "#### Author : B. Militzer, University of California, Berkeley \n",
    "#### Date   : Sept. 26, 2018\n",
    "\n",
    "#### Read \"The Science of Fractal Images\", Ed. Peitgen and Saupe, p. 37 (1988)\n"
   ]
  },
  {
   "cell_type": "code",
   "execution_count": 1,
   "metadata": {
    "jupyter": {
     "outputs_hidden": true
    }
   },
   "outputs": [],
   "source": [
    "import numpy as np\n",
    "import matplotlib.pyplot as plt"
   ]
  },
  {
   "cell_type": "code",
   "execution_count": 2,
   "metadata": {},
   "outputs": [],
   "source": [
    "#note, this function expects a matrix A[ix,iy] \n",
    "#and then displays so that A[:,0] is the lowest row of pixels\n",
    "def display(A):\n",
    "    maxX = A.shape[0]\n",
    "    maxY = A.shape[1]\n",
    "    B = np.zeros((maxY, maxX))\n",
    "    for ix in range(0,maxX):\n",
    "        for iy in range(0,maxY):\n",
    "            B[maxY-1-iy,ix] = A[ix,iy]\n",
    "\n",
    "    #Display the graphics outside of the notebook. \n",
    "    #On a PC, use '%matplotlib qt' instead.\n",
    "    %matplotlib tk\n",
    "    #NOTE: I am running Ubuntu and deleting this line worked for me. (having that line caused errors.)\n",
    "    \n",
    "    plt.rcParams['figure.figsize'] = [6, 6/maxX*maxY]\n",
    "    plt.imshow(B); \n",
    "    plt.axis('off'); \n",
    "    plt.show()\n",
    "    plt.draw()\n",
    "    plt.pause(0.01)"
   ]
  },
  {
   "cell_type": "code",
   "execution_count": 29,
   "metadata": {
    "jupyter": {
     "outputs_hidden": true
    }
   },
   "outputs": [],
   "source": [
    "nParticles = 10000\n",
    "maxX = 300\n",
    "maxY = 200"
   ]
  },
  {
   "cell_type": "code",
   "execution_count": 30,
   "metadata": {},
   "outputs": [
    {
     "name": "stdout",
     "output_type": "stream",
     "text": [
      "[[1. 1. 1. ... 1. 1. 1.]\n",
      " [0. 0. 0. ... 0. 0. 0.]\n",
      " [0. 0. 0. ... 0. 0. 0.]\n",
      " ...\n",
      " [0. 0. 0. ... 0. 0. 0.]\n",
      " [0. 0. 0. ... 0. 0. 0.]\n",
      " [0. 0. 0. ... 0. 0. 0.]]\n"
     ]
    }
   ],
   "source": [
    "# Initialize matrix containing all 2D grid points A(x,y)\n",
    "# 0 <= x < maxX\n",
    "# 0 <= y < maxY\n",
    "# A(x,y)=0 ... site is empty\n",
    "# A(x,y)>0 ... site is filled\n",
    "A = np.zeros((maxX, maxY))\n",
    "\n",
    "# Introduce a sticky wall at the bottom \n",
    "# by filling the lowest row of pixels with particles\n",
    "A[:,0] = 1\n",
    "print(A.transpose())"
   ]
  },
  {
   "cell_type": "code",
   "execution_count": 31,
   "metadata": {
    "jupyter": {
     "outputs_hidden": true
    }
   },
   "outputs": [],
   "source": [
    "# To save computer time, we want to inject the new particle not too far\n",
    "# above growing aggregate. We inject at on a line 'yStart', which\n",
    "# keeps being increased so that it is always 'yBuffer' lines above the\n",
    "# highest structure\n",
    "yBuffer = 5\n",
    "yStart  = 1 + yBuffer"
   ]
  },
  {
   "cell_type": "code",
   "execution_count": 32,
   "metadata": {},
   "outputs": [],
   "source": [
    "p = 0.05"
   ]
  },
  {
   "cell_type": "code",
   "execution_count": 33,
   "metadata": {},
   "outputs": [
    {
     "name": "stdout",
     "output_type": "stream",
     "text": [
      "i= 0 \tx=37 \ty=1 \tyStart=6\n",
      "i= 1000 \tx=205 \ty=4 \tyStart=17\n",
      "i= 2000 \tx=48 \ty=15 \tyStart=24\n",
      "i= 3000 \tx=229 \ty=16 \tyStart=34\n",
      "i= 4000 \tx=269 \ty=39 \tyStart=44\n",
      "i= 5000 \tx=188 \ty=38 \tyStart=53\n",
      "i= 6000 \tx=192 \ty=53 \tyStart=63\n",
      "i= 7000 \tx=183 \ty=57 \tyStart=73\n",
      "i= 8000 \tx=53 \ty=69 \tyStart=81\n",
      "i= 9000 \tx=165 \ty=73 \tyStart=94\n"
     ]
    }
   ],
   "source": [
    "for i in range(0,nParticles):\n",
    "    # Compute new starting point on the line y=yStart\n",
    "    x  = np.random.randint(0,maxX)\n",
    "    y  = yStart; #always start at upper limit\n",
    "\n",
    "    while True:\n",
    "        xOrg = x\n",
    "        yOrg = y\n",
    "\n",
    "        r = np.random.random(); # Random float:  0.0 <= r < 1.0\n",
    "        #based on the value of 'r', move the particle\n",
    "        #left, right, up, or down and change x and y accordingly\n",
    "        if r < 0.25: \n",
    "            x -= 1\n",
    "        elif 0.25 <= r < 0.5: \n",
    "            x +=1\n",
    "        elif 0.5 <= r < 0.75: \n",
    "            y += 1\n",
    "        else: \n",
    "            y -= 1\n",
    "        \n",
    "        #now apply periodic boundary conditions to 'x'\n",
    "        if y < 0: \n",
    "            y = maxY-1\n",
    "        elif y >= maxY:\n",
    "            y = 0\n",
    "        if x < 0:\n",
    "            x = maxX-1\n",
    "        elif x >= maxX:\n",
    "            x = 0\n",
    "        \n",
    "        \n",
    "        \n",
    "        if (A[x,y] == 1 or y>yStart): \n",
    "            x = xOrg\n",
    "            y = yOrg\n",
    "            continue; # if this site has been taken try moving in a different direction\n",
    "        \n",
    "        #determine the x coordionates of the left and right neighbors\n",
    "        #store them in 'xm' and 'xp' and apply periodic boundary conditions again\n",
    "        xp = x+1\n",
    "        xm = x-1\n",
    "        yp = y+1\n",
    "        ym = y-1\n",
    "        if ym < 0:\n",
    "            ym = maxY-1\n",
    "        elif yp >= maxY:\n",
    "            yp = 0\n",
    "        if xm < 0:\n",
    "            xm = maxX-1\n",
    "        elif xp >= maxX:\n",
    "            xp = 0\n",
    " \n",
    "        # Determine if any neighboring site is occupied\n",
    "        # if that is the case, enter the following 'if' clause\n",
    "        r1 = np.random.random();\n",
    "        if r1 <= p:\n",
    "            if (y>yStart or A[xp,y] == 1 or A[xm,y] == 1 or A[x,yp] == 1 or A[x,ym] == 1): \n",
    "                A[x,y] = 1\n",
    "                if (y+yBuffer>yStart and y+yBuffer<maxY): \n",
    "                    yStart = y+yBuffer\n",
    "\n",
    "                if (i%1000==0): \n",
    "                    print(f'i= {i} \\tx={x} \\ty={y} \\tyStart={yStart}')\n",
    "\n",
    "                nNewParticlesPerFrame = 1000 \n",
    "                if (i%nNewParticlesPerFrame==0): \n",
    "                    display(A)\n",
    "\n",
    "                break # particle was attached, break out of current loop and insert next one\n",
    "            \n",
    "    if (yStart+1==maxY): \n",
    "        print(f'Structures reached Y limit after only {i} particles')\n",
    "        break\n",
    "\n",
    "display(A)\n",
    "        "
   ]
  },
  {
   "cell_type": "markdown",
   "metadata": {},
   "source": [
    "# Part II:\n",
    "The They grow with the stream (like stalactites)"
   ]
  }
 ],
 "metadata": {
  "kernelspec": {
   "display_name": "Python 3 (ipykernel)",
   "language": "python",
   "name": "python3"
  },
  "language_info": {
   "codemirror_mode": {
    "name": "ipython",
    "version": 3
   },
   "file_extension": ".py",
   "mimetype": "text/x-python",
   "name": "python",
   "nbconvert_exporter": "python",
   "pygments_lexer": "ipython3",
   "version": "3.9.12"
  }
 },
 "nbformat": 4,
 "nbformat_minor": 4
}
